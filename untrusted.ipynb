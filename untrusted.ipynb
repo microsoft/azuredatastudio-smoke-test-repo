{
    "metadata": {
        "kernelspec": {
            "name": "SQL",
            "display_name": "SQL",
            "language": "sql"
        },
        "language_info": {
            "name": "sql",
            "version": ""
        }
    },
    "nbformat_minor": 2,
    "nbformat": 4,
    "cells": [
        {
            "cell_type": "markdown",
            "source": [
                "# iframe \n",
                "\n",
                "<iframe></iframe>"
            ],
            "metadata": {
                "azdata_cell_guid": "c8650c86-e356-48e9-8e88-ce58b2705df3"
            }
        },
        {
            "cell_type": "markdown",
            "source": [
                "# dialog\n",
                "\n",
                "<dialog open>This is an open dialog window</dialog>"
            ],
            "metadata": {
                "azdata_cell_guid": "72cc8c74-08fc-40d2-94a1-1bdaf3d9e420"
            }
        },
        {
            "cell_type": "markdown",
            "source": [
                "# embed\n",
                "\n",
                "<embed type=\"text/html\" width=\"500\" height=\"200\">"
            ],
            "metadata": {
                "azdata_cell_guid": "d21c43e2-bc76-4280-a4d9-898ea885b382"
            }
        },
        {
            "cell_type": "markdown",
            "source": [
                "# svg\n",
                "\n",
                "<svg width=\"100\" height=\"100\">\n",
                "  <circle cx=\"50\" cy=\"50\" r=\"40\" stroke=\"green\" stroke-width=\"4\" fill=\"yellow\" />\n",
                "</svg>"
            ],
            "metadata": {
                "azdata_cell_guid": "32733bd6-4fb9-4eeb-9c16-1b7e8d198d19"
            }
        },
        {
            "cell_type": "code",
            "source": [
                ""
            ],
            "metadata": {
                "azdata_cell_guid": "c78a115c-9681-413c-bb2f-2f68696d20d8"
            },
            "outputs": [],
            "execution_count": null
        }
    ]
}
