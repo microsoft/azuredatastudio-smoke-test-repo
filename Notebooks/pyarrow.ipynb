{
    "metadata": {
        "kernelspec": {
            "name": "python3",
            "display_name": "Python 3",
            "language": "python"
        },
        "language_info": {
            "name": "python",
            "version": "3.8.10",
            "mimetype": "text/x-python",
            "codemirror_mode": {
                "name": "ipython",
                "version": 3
            },
            "pygments_lexer": "ipython3",
            "nbconvert_exporter": "python",
            "file_extension": ".py"
        }
    },
    "nbformat_minor": 2,
    "nbformat": 4,
    "cells": [
        {
            "cell_type": "code",
            "source": [
                "import pyarrow\n",
                "\n",
                "print(\"Import Success\")"
            ],
            "metadata": {
                "azdata_cell_guid": "6d20e51c-1012-4b03-8b61-cdcd4fc91dea"
            },
            "outputs": [],
            "execution_count": 1
        }
    ]
}