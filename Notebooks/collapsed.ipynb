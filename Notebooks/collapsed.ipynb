{
    "metadata": {
        "kernelspec": {
            "name": "SQL",
            "display_name": "SQL",
            "language": "sql"
        },
        "language_info": {
            "name": "sql",
            "version": ""
        }
    },
    "nbformat_minor": 2,
    "nbformat": 4,
    "cells": [
        {
            "cell_type": "code",
            "source": [
                "-- test\n",
                "-- test\n",
                "-- test\n",
                ""
            ],
            "metadata": {
                "azdata_cell_guid": "c4e097cf-d3d8-4483-a71e-938dc1c765d6",
                "tags": [
                    "hide_input"
                ]
            },
            "outputs": [],
            "execution_count": null
        },
        {
            "cell_type": "code",
            "source": [
                "-- test\n",
                "-- test\n",
                "-- test\n",
                ""
            ],
            "metadata": {
                "azdata_cell_guid": "e5f059c3-89fa-4e67-92ef-fb6d22efdbc5",
                "tags": [
                    "hide_input"
                ]
            },
            "outputs": [],
            "execution_count": null
        }
    ]
}