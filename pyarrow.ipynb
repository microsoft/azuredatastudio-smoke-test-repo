{
    "metadata": {
        "kernelspec": {
            "name": "python3",
            "display_name": "Python 3",
            "language": "python"
        },
        "language_info": {
            "name": "python",
            "version": "3.8.10",
            "mimetype": "text/x-python",
            "codemirror_mode": {
                "name": "ipython",
                "version": 3
            },
            "pygments_lexer": "ipython3",
            "nbconvert_exporter": "python",
            "file_extension": ".py"
        }
    },
    "nbformat_minor": 2,
    "nbformat": 4,
    "cells": [
        {
            "cell_type": "code",
            "source": [
                "import pyarrow\n",
                "\n",
                "print(\"Import Successful\")"
            ],
            "metadata": {
                "azdata_cell_guid": "c28fa8ce-f0ca-4436-b3df-efc9ec695fe0"
            },
            "outputs": [],
            "execution_count": null
        }
    ]
}